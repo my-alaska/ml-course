{
 "cells": [
  {
   "cell_type": "code",
   "execution_count": 2,
   "id": "5b0f7215-c218-4e0e-baa4-537a299845ab",
   "metadata": {},
   "outputs": [],
   "source": [
    "import numpy as np\n",
    "from sklearn.datasets import load_breast_cancer, load_iris"
   ]
  },
  {
   "cell_type": "code",
   "execution_count": null,
   "id": "78bf2adf-3a98-4bf5-904c-781fc89677da",
   "metadata": {},
   "outputs": [],
   "source": [
    "class nb_clf:\n",
    "    def __init__(self,proba_function):\n",
    "        self.class_counts = {}\n",
    "        self.class_params = {}\n",
    "    \n",
    "    def fit(self,X,y):\n",
    "        for label, count in zip(*np.unique(y, return_counts=True)):\n",
    "            if label not in classes:\n",
    "                classes[label]=0\n",
    "            classes[label]+=count\n",
    "\n",
    "        for label in self.class_counts():\n",
    "            current_X = X[np.where(y==label)]\n",
    "            mean = np.mean(current_X,axis=0)\n",
    "            double_variance = 2*np.variance(current_X,axis=0)\n",
    "            self.class_params[label] = (mean,double_variance)\n",
    "        \n",
    "\n",
    "    def _get_probas_and_predictions(self,X):\n",
    "        sum_counts = np.sum(list(classes.values())) \n",
    "        class_priors = {label: np.log2(count/ sum_counts) for label,count in self.classes.items()}\n",
    "        best_class = None\n",
    "        best_proba = 0\n",
    "\n",
    "        predictions = []\n",
    "        probas = []\n",
    "        for x in X:\n",
    "            for label, (mean,double_variance) in class_params.items():\n",
    "                proba = np.log2(np.exp(-np.square(x-mean)/(double_variance))/np.sqrt(np.pi*double_variance)\n",
    "                if proba > best_proba:\n",
    "                    best_proba = proba\n",
    "                    best_class = label\n",
    "            predictions.append(best_class)\n",
    "            probas.append(best_proba)\n",
    "\n",
    "        return np.array(probas), np.array(predictions)\n",
    "    \n",
    "    def predict(self,X):\n",
    "        probas, predictions = self._get_probas_and_predictions(X)\n",
    "\n",
    "        return predictions\n",
    "        \n",
    "        \n",
    "    \n"
   ]
  },
  {
   "cell_type": "code",
   "execution_count": 14,
   "id": "abae0320-49e1-41c0-961b-f6f62dc41ac5",
   "metadata": {},
   "outputs": [
    {
     "data": {
      "text/plain": [
       "dict_values([2, 3, 4])"
      ]
     },
     "execution_count": 14,
     "metadata": {},
     "output_type": "execute_result"
    }
   ],
   "source": []
  },
  {
   "cell_type": "code",
   "execution_count": null,
   "id": "80c5b3a9-7fd1-41d9-8ad9-1e23ac9341a4",
   "metadata": {},
   "outputs": [],
   "source": []
  }
 ],
 "metadata": {
  "kernelspec": {
   "display_name": "Python 3 (ipykernel)",
   "language": "python",
   "name": "python3"
  },
  "language_info": {
   "codemirror_mode": {
    "name": "ipython",
    "version": 3
   },
   "file_extension": ".py",
   "mimetype": "text/x-python",
   "name": "python",
   "nbconvert_exporter": "python",
   "pygments_lexer": "ipython3",
   "version": "3.12.4"
  }
 },
 "nbformat": 4,
 "nbformat_minor": 5
}
