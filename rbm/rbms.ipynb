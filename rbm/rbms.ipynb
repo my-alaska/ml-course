{
 "cells": [
  {
   "cell_type": "code",
   "execution_count": 1,
   "id": "8d697882-d510-4fc4-a626-5f21ec3aa073",
   "metadata": {
    "ExecuteTime": {
     "end_time": "2024-12-17T12:58:04.146703400Z",
     "start_time": "2024-12-17T12:58:00.646296400Z"
    }
   },
   "outputs": [],
   "source": [
    "from torchvision.datasets import FashionMNIST\n",
    "\n",
    "fashion_train = FashionMNIST(\n",
    "    root=\"data/fmnist\",\n",
    "    download=True,\n",
    ")\n",
    "fashion_test = FashionMNIST(root=\"data/fmnist\", train=False)"
   ]
  },
  {
   "cell_type": "code",
   "execution_count": 2,
   "id": "0cf7a476-5289-4edb-98d4-94e589b16a75",
   "metadata": {
    "ExecuteTime": {
     "end_time": "2024-12-17T12:58:04.153894300Z",
     "start_time": "2024-12-17T12:58:04.148895600Z"
    }
   },
   "outputs": [],
   "source": [
    "train_data = fashion_train.data\n",
    "train_labels = fashion_train.targets\n",
    "\n",
    "test_data = fashion_train.data\n",
    "test_labels = fashion_train.targets"
   ]
  },
  {
   "cell_type": "code",
   "execution_count": 3,
   "id": "85e3d511-e957-44bd-80ac-bd7627f38a7a",
   "metadata": {
    "ExecuteTime": {
     "end_time": "2024-12-17T12:58:04.475132400Z",
     "start_time": "2024-12-17T12:58:04.150894400Z"
    }
   },
   "outputs": [],
   "source": [
    "import numpy as np\n",
    "import matplotlib.pyplot as plt"
   ]
  },
  {
   "cell_type": "code",
   "execution_count": 4,
   "id": "b1817c54-73e0-473b-ace9-f139cac55dc4",
   "metadata": {
    "ExecuteTime": {
     "end_time": "2024-12-17T12:58:04.480737200Z",
     "start_time": "2024-12-17T12:58:04.478131Z"
    }
   },
   "outputs": [],
   "source": [
    "def normalize(images):\n",
    "\n",
    "    histograms = np.apply_along_axis(\n",
    "        np.bincount, 1, images.reshape(images.shape[0], -1), minlength=256\n",
    "    )\n",
    "\n",
    "    cdf = histograms.cumsum(axis=1)\n",
    "    cdf_min = cdf[:, 0][\n",
    "        :, None\n",
    "    ]  # Minimum of the CDF (first non-zero element in each row)\n",
    "\n",
    "    # Normalize the CDF for each image\n",
    "    cdf_m = ((cdf - cdf_min) * 255) / (cdf.max(axis=1)[:, None] - cdf_min)\n",
    "    \n",
    "    cdf_m = cdf_m.astype(np.uint8)\n",
    "\n",
    "    idx = np.arange(images.shape[0])\n",
    "\n",
    "    # Apply normalized CDF to each image\n",
    "    normalized_images = cdf_m[np.arange(images.shape[0])[:,None,None], images] #  Broadcasting across images and index\n",
    "\n",
    "    return normalized_images"
   ]
  },
  {
   "cell_type": "code",
   "execution_count": 5,
   "id": "76b6d02f-ee77-46aa-a02e-d1d157dc3a24",
   "metadata": {
    "ExecuteTime": {
     "end_time": "2024-12-17T12:58:04.914725500Z",
     "start_time": "2024-12-17T12:58:04.482736900Z"
    }
   },
   "outputs": [],
   "source": [
    "train_norm = normalize(train_data)"
   ]
  },
  {
   "cell_type": "code",
   "execution_count": 6,
   "id": "c41ca6e9-c641-444c-996c-c469a9384124",
   "metadata": {
    "ExecuteTime": {
     "end_time": "2024-12-17T12:58:04.986457600Z",
     "start_time": "2024-12-17T12:58:04.914725500Z"
    }
   },
   "outputs": [
    {
     "data": {
      "text/plain": "<matplotlib.image.AxesImage at 0x208f863e510>"
     },
     "execution_count": 6,
     "metadata": {},
     "output_type": "execute_result"
    },
    {
     "data": {
      "text/plain": "<Figure size 640x480 with 1 Axes>",
      "image/png": "[encoded data removed]"
     },
     "metadata": {},
     "output_type": "display_data"
    }
   ],
   "source": [
    "plt.imshow(train_norm[11],cmap=\"gray\")"
   ]
  },
  {
   "cell_type": "code",
   "execution_count": 6,
   "outputs": [],
   "source": [],
   "metadata": {
    "collapsed": false,
    "ExecuteTime": {
     "end_time": "2024-12-17T12:58:04.986457600Z",
     "start_time": "2024-12-17T12:58:04.977771300Z"
    }
   },
   "id": "23d0ed63365026c"
  }
 ],
 "metadata": {
  "kernelspec": {
   "display_name": "Python 3 (ipykernel)",
   "language": "python",
   "name": "python3"
  },
  "language_info": {
   "codemirror_mode": {
    "name": "ipython",
    "version": 3
   },
   "file_extension": ".py",
   "mimetype": "text/x-python",
   "name": "python",
   "nbconvert_exporter": "python",
   "pygments_lexer": "ipython3",
   "version": "3.12.4"
  }
 },
 "nbformat": 4,
 "nbformat_minor": 5
}
