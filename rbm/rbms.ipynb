{
 "cells": [
  {
   "cell_type": "markdown",
   "source": [
    "# RBMs and DBNs\n",
    "\n",
    "### Load mnist datasets"
   ],
   "metadata": {
    "collapsed": false
   },
   "id": "6f5e70b7435e75be"
  },
  {
   "cell_type": "code",
   "execution_count": 1,
   "id": "8d697882-d510-4fc4-a626-5f21ec3aa073",
   "metadata": {
    "ExecuteTime": {
     "end_time": "2024-12-18T16:13:14.776395Z",
     "start_time": "2024-12-18T16:13:12.630202Z"
    }
   },
   "outputs": [],
   "source": [
    "import pandas as pd\n",
    "from torchvision.datasets import FashionMNIST, KMNIST, MNIST\n",
    "\n",
    "mnist = MNIST(\n",
    "    root=\"data/mnist\",\n",
    "    download=True,\n",
    ")\n",
    "\n",
    "mnist_test = MNIST(root=\"data/mnist\", download=True, train=False)\n",
    "\n",
    "fashion = FashionMNIST(\n",
    "    root=\"data/fmnist\",\n",
    "    download=True,\n",
    ")\n",
    "fashion_test = FashionMNIST(root=\"data/fmnist\", download=True, train=False)\n",
    "\n",
    "kuzushiji = KMNIST(\n",
    "    root=\"data/kmnist\",\n",
    "    download=True,\n",
    ")\n",
    "kuzushiji_test = KMNIST(root=\"data/kmnist\", download=True, train=False)"
   ]
  },
  {
   "cell_type": "code",
   "execution_count": 2,
   "id": "0cf7a476-5289-4edb-98d4-94e589b16a75",
   "metadata": {
    "ExecuteTime": {
     "end_time": "2024-12-18T16:13:14.791114Z",
     "start_time": "2024-12-18T16:13:14.778395200Z"
    }
   },
   "outputs": [
    {
     "name": "stderr",
     "output_type": "stream",
     "text": [
      "C:\\Users\\piotr\\AppData\\Local\\Programs\\Python\\Python311\\Lib\\site-packages\\torchvision\\datasets\\mnist.py:66: UserWarning: train_labels has been renamed targets\n",
      "  warnings.warn(\"train_labels has been renamed targets\")\n",
      "C:\\Users\\piotr\\AppData\\Local\\Programs\\Python\\Python311\\Lib\\site-packages\\torchvision\\datasets\\mnist.py:76: UserWarning: train_data has been renamed data\n",
      "  warnings.warn(\"train_data has been renamed data\")\n"
     ]
    }
   ],
   "source": [
    "mnist_train_data = mnist.data\n",
    "mnist_train_labels = mnist.train_labels.numpy()\n",
    "mnist_test_data = mnist_test.data\n",
    "mnist_test_labels = mnist_test.targets.numpy()\n",
    "\n",
    "fashion_train_data = fashion.train_data\n",
    "fashion_train_labels = fashion.train_labels.numpy()\n",
    "fashion_test_data = fashion_test.data\n",
    "fashion_test_labels = fashion_test.targets.numpy()\n",
    "\n",
    "kuzushiji_train_data = kuzushiji.train_data\n",
    "kuzushiji_train_labels = kuzushiji.train_labels.numpy()\n",
    "kuzushiji_test_data = kuzushiji_test.data\n",
    "kuzushiji_test_labels = kuzushiji_test.targets.numpy()"
   ]
  },
  {
   "cell_type": "markdown",
   "source": [
    "### Preprocess datasets"
   ],
   "metadata": {
    "collapsed": false
   },
   "id": "981ecb640eb96a68"
  },
  {
   "cell_type": "code",
   "execution_count": 3,
   "id": "85e3d511-e957-44bd-80ac-bd7627f38a7a",
   "metadata": {
    "ExecuteTime": {
     "end_time": "2024-12-18T16:13:14.791114Z",
     "start_time": "2024-12-18T16:13:14.782480100Z"
    }
   },
   "outputs": [],
   "source": [
    "import numpy as np"
   ]
  },
  {
   "cell_type": "markdown",
   "source": [
    "Histogram normalization"
   ],
   "metadata": {
    "collapsed": false
   },
   "id": "fbb312663db7d092"
  },
  {
   "cell_type": "code",
   "execution_count": 4,
   "id": "b1817c54-73e0-473b-ace9-f139cac55dc4",
   "metadata": {
    "ExecuteTime": {
     "end_time": "2024-12-18T16:13:14.791114Z",
     "start_time": "2024-12-18T16:13:14.783989800Z"
    }
   },
   "outputs": [],
   "source": [
    "def normalize(images):\n",
    "\n",
    "    histograms = np.apply_along_axis(\n",
    "        np.bincount, 1, images.reshape(images.shape[0], -1), minlength=256\n",
    "    )\n",
    "\n",
    "    cdf = histograms.cumsum(axis=1)\n",
    "    cdf_min = cdf[:, 0][\n",
    "        :, None\n",
    "    ]  # Minimum of the CDF (first non-zero element in each row)\n",
    "\n",
    "    # Normalize the CDF for each image\n",
    "    cdf_m = ((cdf - cdf_min) * 255) / (cdf.max(axis=1)[:, None] - cdf_min)\n",
    "\n",
    "    cdf_m = cdf_m.astype(np.uint8)\n",
    "\n",
    "    # Apply normalized CDF to each image\n",
    "    normalized_images = cdf_m[\n",
    "        np.arange(images.shape[0])[:, None, None], images\n",
    "    ]  #  Broadcasting across images and index\n",
    "\n",
    "    return normalized_images"
   ]
  },
  {
   "cell_type": "code",
   "execution_count": 5,
   "id": "76b6d02f-ee77-46aa-a02e-d1d157dc3a24",
   "metadata": {
    "ExecuteTime": {
     "end_time": "2024-12-18T16:13:16.381476400Z",
     "start_time": "2024-12-18T16:13:14.789114Z"
    }
   },
   "outputs": [],
   "source": [
    "mnist_train_data = normalize(mnist_train_data) > 63\n",
    "mnist_test_data = normalize(mnist_test_data) > 63\n",
    "\n",
    "fashion_train_data = normalize(fashion_train_data) > 63\n",
    "fashion_test_data = normalize(fashion_test_data) > 63\n",
    "\n",
    "kuzushiji_train_data = normalize(kuzushiji_train_data) > 99\n",
    "kuzushiji_test_data = normalize(kuzushiji_test_data) > 99"
   ]
  },
  {
   "cell_type": "markdown",
   "source": [
    "### Display images"
   ],
   "metadata": {
    "collapsed": false
   },
   "id": "f3f9bea07e78754"
  },
  {
   "cell_type": "code",
   "execution_count": 6,
   "outputs": [],
   "source": [
    "import matplotlib.pyplot as plt\n",
    "\n",
    "\n",
    "def display_images(images, title=\"\"):\n",
    "    # Ensure we only display up to the number of images available\n",
    "    num_images = images.shape[0]\n",
    "\n",
    "    # Set up a grid for the images\n",
    "    cols = 5\n",
    "    rows = (\n",
    "        num_images + cols - 1\n",
    "    ) // cols  # Calculate rows needed for the number of images\n",
    "\n",
    "    # Create a figure with subplots\n",
    "    fig, axes = plt.subplots(rows, cols, figsize=(10, 2 * rows))\n",
    "    fig.suptitle(title)\n",
    "\n",
    "    for i, ax in enumerate(axes.flat):\n",
    "        if i < num_images:\n",
    "            ax.imshow(images[i], cmap=\"gray\")\n",
    "        ax.axis(\"off\")\n",
    "\n",
    "    plt.plot()"
   ],
   "metadata": {
    "collapsed": false,
    "ExecuteTime": {
     "end_time": "2024-12-18T16:13:16.620385200Z",
     "start_time": "2024-12-18T16:13:16.384475Z"
    }
   },
   "id": "5adeb590f3dbb143"
  },
  {
   "cell_type": "code",
   "execution_count": 7,
   "outputs": [
    {
     "data": {
      "text/plain": "<Figure size 1000x400 with 10 Axes>",
      "image/png": "[encoded data removed]"
     },
     "metadata": {},
     "output_type": "display_data"
    },
    {
     "data": {
      "text/plain": "<Figure size 1000x400 with 10 Axes>",
      "image/png": "[encoded data removed]"
     },
     "metadata": {},
     "output_type": "display_data"
    },
    {
     "data": {
      "text/plain": "<Figure size 1000x400 with 10 Axes>",
      "image/png": "[encoded data removed]"
     },
     "metadata": {},
     "output_type": "display_data"
    }
   ],
   "source": [
    "display_images(mnist_train_data[:10], \"mnist train\")\n",
    "display_images(fashion_train_data[:10], \"fashion mnist train\")\n",
    "display_images(kuzushiji_train_data[:10], \"kuzushiji mnist train\")"
   ],
   "metadata": {
    "collapsed": false,
    "ExecuteTime": {
     "end_time": "2024-12-18T16:13:16.890484400Z",
     "start_time": "2024-12-18T16:13:16.621384900Z"
    }
   },
   "id": "72fad1146d36e93d"
  },
  {
   "cell_type": "code",
   "execution_count": 8,
   "outputs": [],
   "source": [
    "mnist = [mnist_train_data, mnist_train_labels, mnist_test_data, mnist_test_labels]\n",
    "fashion = [\n",
    "    fashion_train_data,\n",
    "    fashion_train_labels,\n",
    "    fashion_test_data,\n",
    "    fashion_test_labels,\n",
    "]\n",
    "kuzushiji = [\n",
    "    kuzushiji_train_data,\n",
    "    kuzushiji_train_labels,\n",
    "    kuzushiji_test_data,\n",
    "    kuzushiji_test_labels,\n",
    "]\n",
    "\n",
    "datasets = [mnist, fashion, kuzushiji]\n",
    "names = (\"mnist\", \"fashion mnist\", \"kuzushiji mnist\")"
   ],
   "metadata": {
    "collapsed": false,
    "ExecuteTime": {
     "end_time": "2024-12-18T16:13:16.891484Z",
     "start_time": "2024-12-18T16:13:16.869822900Z"
    }
   },
   "id": "9430bf93a4ae2118"
  },
  {
   "cell_type": "markdown",
   "source": [
    "# Task 1 - RBM feature extraction\n",
    "\n",
    "### Baseline"
   ],
   "metadata": {
    "collapsed": false
   },
   "id": "836cc7b2535cb226"
  },
  {
   "cell_type": "code",
   "execution_count": 9,
   "outputs": [],
   "source": [
    "import pandas as pd\n",
    "\n",
    "\n",
    "# retunrs a dataframe with socres for each class and scores combined\n",
    "def get_score_df(clf, X_test, y_test):\n",
    "    y_pred = clf.predict(X_test)\n",
    "    y_prob = clf.predict_proba(X_test)\n",
    "\n",
    "    result_df = pd.DataFrame(columns=[\"label\", \"auroc\", \"f1\", \"prec\", \"rec\"])\n",
    "    classes = np.unique(y_test)  # Assuming y_train contains all classes\n",
    "    for cls in classes:\n",
    "        binary_y_test = (y_test == cls).astype(int)\n",
    "        binary_y_pred = (y_pred == cls).astype(int)\n",
    "\n",
    "        auroc = roc_auc_score(binary_y_test, y_prob[:, cls])\n",
    "        f1 = f1_score(binary_y_test, binary_y_pred)\n",
    "        precision = precision_score(binary_y_test, binary_y_pred)\n",
    "        recall = recall_score(binary_y_test, binary_y_pred)\n",
    "\n",
    "        result_df.loc[result_df.shape[0]] = [cls, auroc, f1, precision, recall]\n",
    "\n",
    "    auroc = roc_auc_score(y_test, y_prob, multi_class=\"ovr\", average=\"weighted\")\n",
    "    f1 = f1_score(y_test, y_pred, average=\"weighted\")\n",
    "    precision = precision_score(y_test, y_pred, average=\"weighted\")\n",
    "    recall = recall_score(y_test, y_pred, average=\"weighted\")\n",
    "    result_df.loc[result_df.shape[0]] = [\"all\", auroc, f1, precision, recall]\n",
    "\n",
    "    return result_df"
   ],
   "metadata": {
    "collapsed": false,
    "ExecuteTime": {
     "end_time": "2024-12-18T16:13:16.891484Z",
     "start_time": "2024-12-18T16:13:16.881706300Z"
    }
   },
   "id": "39bd16fec4a33ced"
  },
  {
   "cell_type": "code",
   "execution_count": 10,
   "outputs": [
    {
     "name": "stdout",
     "output_type": "stream",
     "text": [
      "Training for mnist\n",
      "   label     auroc        f1      prec       rec\n",
      "0    0.0  0.998814  0.959235  0.946375  0.972449\n",
      "1    1.0  0.998860  0.978929  0.975503  0.982379\n",
      "2    2.0  0.989151  0.910440  0.930233  0.891473\n",
      "3    3.0  0.992957  0.894325  0.883946  0.904950\n",
      "4    4.0  0.995786  0.919028  0.913481  0.924644\n",
      "5    5.0  0.988035  0.876147  0.896714  0.856502\n",
      "6    6.0  0.997391  0.940691  0.929664  0.951983\n",
      "7    7.0  0.993401  0.928188  0.932287  0.924125\n",
      "8    8.0  0.990451  0.881183  0.875380  0.887064\n",
      "9    9.0  0.992254  0.899651  0.906439  0.892963\n",
      "10   all  0.993802  0.919936  0.920056  0.920100\n",
      "\n",
      "Training for fashion mnist\n",
      "   label     auroc        f1      prec     rec\n",
      "0    0.0  0.979829  0.802165  0.789729  0.8150\n",
      "1    1.0  0.997567  0.963489  0.977366  0.9500\n",
      "2    2.0  0.965686  0.711067  0.712136  0.7100\n",
      "3    3.0  0.986849  0.841231  0.822350  0.8610\n",
      "4    4.0  0.968594  0.720773  0.697196  0.7460\n",
      "5    5.0  0.997695  0.933197  0.952133  0.9150\n",
      "6    6.0  0.921319  0.550725  0.594438  0.5130\n",
      "7    7.0  0.996511  0.907206  0.895712  0.9190\n",
      "8    8.0  0.993449  0.934923  0.928924  0.9410\n",
      "9    9.0  0.997886  0.929173  0.920510  0.9380\n",
      "10   all  0.980538  0.829395  0.829049  0.8308\n",
      "\n",
      "Training for kuzushiji mnist\n",
      "   label     auroc        f1      prec     rec\n",
      "0    0.0  0.979641  0.801072  0.863584  0.7470\n",
      "1    1.0  0.927895  0.664697  0.654704  0.6750\n",
      "2    2.0  0.897021  0.582919  0.531739  0.6450\n",
      "3    3.0  0.967030  0.776978  0.799154  0.7560\n",
      "4    4.0  0.926491  0.650934  0.640232  0.6620\n",
      "5    5.0  0.943724  0.719432  0.730175  0.7090\n",
      "6    6.0  0.951126  0.704808  0.678704  0.7330\n",
      "7    7.0  0.929083  0.659168  0.753213  0.5860\n",
      "8    8.0  0.941868  0.671560  0.620339  0.7320\n",
      "9    9.0  0.934125  0.681388  0.718404  0.6480\n",
      "10   all  0.939800  0.691296  0.699025  0.6893\n"
     ]
    }
   ],
   "source": [
    "from sklearn.linear_model import LogisticRegression\n",
    "from sklearn.metrics import roc_auc_score, f1_score, precision_score, recall_score\n",
    "\n",
    "baseline_dataframes = []\n",
    "for data, name in zip(datasets, names):\n",
    "    print(f\"Training for {name}\")\n",
    "    X_train, y_train, X_test, y_test = data\n",
    "    X_train = X_train.reshape(X_train.shape[0], -1)\n",
    "    X_test = X_test.reshape(X_test.shape[0], -1)\n",
    "\n",
    "    clf = LogisticRegression(n_jobs=-1, random_state=42)\n",
    "\n",
    "    clf.fit(X_train, y_train)\n",
    "\n",
    "    result_df = get_score_df(clf, X_test, y_test)\n",
    "\n",
    "    baseline_dataframes.append(result_df)\n",
    "\n",
    "    print(result_df)\n",
    "    print()"
   ],
   "metadata": {
    "collapsed": false,
    "ExecuteTime": {
     "end_time": "2024-12-18T16:14:02.307824400Z",
     "start_time": "2024-12-18T16:13:16.887484Z"
    }
   },
   "id": "2e9fb38ffaba07db"
  },
  {
   "cell_type": "markdown",
   "source": [
    "### Tune and train a pipeline"
   ],
   "metadata": {
    "collapsed": false
   },
   "id": "63b4b138d431b4e6"
  },
  {
   "cell_type": "code",
   "execution_count": 31,
   "outputs": [
    {
     "name": "stderr",
     "output_type": "stream",
     "text": [
      "C:\\Users\\piotr\\AppData\\Local\\Programs\\Python\\Python311\\Lib\\site-packages\\sklearn\\metrics\\_scorer.py:610: FutureWarning: The `needs_threshold` and `needs_proba` parameter are deprecated in version 1.4 and will be removed in 1.6. You can either let `response_method` be `None` or set it to `predict` to preserve the same behaviour.\n",
      "  warnings.warn(\n"
     ]
    },
    {
     "name": "stdout",
     "output_type": "stream",
     "text": [
      "Training for mnist\n",
      "Fitting 5 folds for each of 1 candidates, totalling 5 fits\n",
      "{'logreg__C': 1.0, 'rbm__batch_size': 1, 'rbm__learning_rate': 0.1, 'rbm__n_components': 32}\n",
      "{'mean_fit_time': array([66.68658342]), 'std_fit_time': array([0.37103219]), 'mean_score_time': array([0.08888397]), 'std_score_time': array([0.02651333]), 'param_logreg__C': masked_array(data=[1.0],\n",
      "             mask=[False],\n",
      "       fill_value=1e+20), 'param_rbm__batch_size': masked_array(data=[1],\n",
      "             mask=[False],\n",
      "       fill_value=999999), 'param_rbm__learning_rate': masked_array(data=[0.1],\n",
      "             mask=[False],\n",
      "       fill_value=1e+20), 'param_rbm__n_components': masked_array(data=[32],\n",
      "             mask=[False],\n",
      "       fill_value=999999), 'params': [{'logreg__C': 1.0, 'rbm__batch_size': 1, 'rbm__learning_rate': 0.1, 'rbm__n_components': 32}], 'split0_test_score': array([0.94567386]), 'split1_test_score': array([0.9249838]), 'split2_test_score': array([0.92695858]), 'split3_test_score': array([0.93762731]), 'split4_test_score': array([0.93328135]), 'mean_test_score': array([0.93370498]), 'std_test_score': array([0.00748854]), 'rank_test_score': array([1])}\n",
      "   label     auroc        f1      prec       rec\n",
      "0    0.0  0.968053  0.729625  0.631815  0.863265\n",
      "1    1.0  0.995927  0.978780  0.982254  0.975330\n",
      "2    2.0  0.941777  0.765064  0.890605  0.670543\n",
      "3    3.0  0.942346  0.654434  0.585614  0.741584\n",
      "4    4.0  0.924967  0.538347  0.523580  0.553971\n",
      "5    5.0  0.873132  0.344328  0.609687  0.239910\n",
      "6    6.0  0.982333  0.824213  0.768744  0.888309\n",
      "7    7.0  0.933331  0.703075  0.772727  0.644942\n",
      "8    8.0  0.907025  0.547502  0.523408  0.573922\n",
      "9    9.0  0.914816  0.519380  0.508057  0.531219\n",
      "10   all  0.939694  0.668195  0.685586  0.676100\n",
      "\n",
      "Training for fashion mnist\n",
      "Fitting 5 folds for each of 1 candidates, totalling 5 fits\n"
     ]
    },
    {
     "ename": "KeyboardInterrupt",
     "evalue": "",
     "output_type": "error",
     "traceback": [
      "\u001b[1;31m---------------------------------------------------------------------------\u001b[0m",
      "\u001b[1;31mKeyboardInterrupt\u001b[0m                         Traceback (most recent call last)",
      "Cell \u001b[1;32mIn[31], line 44\u001b[0m\n\u001b[0;32m     27\u001b[0m param_grid \u001b[38;5;241m=\u001b[39m {\n\u001b[0;32m     28\u001b[0m     \u001b[38;5;124m\"\u001b[39m\u001b[38;5;124mrbm__n_components\u001b[39m\u001b[38;5;124m\"\u001b[39m: [\u001b[38;5;241m32\u001b[39m], \u001b[38;5;66;03m# Number of hidden units\u001b[39;00m\n\u001b[0;32m     29\u001b[0m     \u001b[38;5;124m\"\u001b[39m\u001b[38;5;124mrbm__learning_rate\u001b[39m\u001b[38;5;124m\"\u001b[39m: [\u001b[38;5;241m0.1\u001b[39m], \u001b[38;5;66;03m# Learning rate\u001b[39;00m\n\u001b[0;32m     30\u001b[0m     \u001b[38;5;124m\"\u001b[39m\u001b[38;5;124mrbm__batch_size\u001b[39m\u001b[38;5;124m\"\u001b[39m: [\u001b[38;5;241m1\u001b[39m], \u001b[38;5;66;03m# Batch size\u001b[39;00m\n\u001b[0;32m     31\u001b[0m     \u001b[38;5;124m\"\u001b[39m\u001b[38;5;124mlogreg__C\u001b[39m\u001b[38;5;124m\"\u001b[39m: [\u001b[38;5;241m1.0\u001b[39m], \u001b[38;5;66;03m# Regularization strength\u001b[39;00m\n\u001b[0;32m     32\u001b[0m }\n\u001b[0;32m     35\u001b[0m clf \u001b[38;5;241m=\u001b[39m GridSearchCV(\n\u001b[0;32m     36\u001b[0m     estimator\u001b[38;5;241m=\u001b[39mpipe,\n\u001b[0;32m     37\u001b[0m     param_grid\u001b[38;5;241m=\u001b[39mparam_grid,\n\u001b[1;32m   (...)\u001b[0m\n\u001b[0;32m     41\u001b[0m     verbose\u001b[38;5;241m=\u001b[39m\u001b[38;5;241m2\u001b[39m\n\u001b[0;32m     42\u001b[0m )\n\u001b[1;32m---> 44\u001b[0m \u001b[43mclf\u001b[49m\u001b[38;5;241;43m.\u001b[39;49m\u001b[43mfit\u001b[49m\u001b[43m(\u001b[49m\u001b[43mX_train\u001b[49m\u001b[43m,\u001b[49m\u001b[43my_train\u001b[49m\u001b[43m)\u001b[49m\n\u001b[0;32m     46\u001b[0m \u001b[38;5;28mprint\u001b[39m(clf\u001b[38;5;241m.\u001b[39mbest_params_)\n\u001b[0;32m     47\u001b[0m \u001b[38;5;28mprint\u001b[39m(clf\u001b[38;5;241m.\u001b[39mcv_results_)\n",
      "File \u001b[1;32m~\\AppData\\Local\\Programs\\Python\\Python311\\Lib\\site-packages\\sklearn\\base.py:1473\u001b[0m, in \u001b[0;36m_fit_context.<locals>.decorator.<locals>.wrapper\u001b[1;34m(estimator, *args, **kwargs)\u001b[0m\n\u001b[0;32m   1466\u001b[0m     estimator\u001b[38;5;241m.\u001b[39m_validate_params()\n\u001b[0;32m   1468\u001b[0m \u001b[38;5;28;01mwith\u001b[39;00m config_context(\n\u001b[0;32m   1469\u001b[0m     skip_parameter_validation\u001b[38;5;241m=\u001b[39m(\n\u001b[0;32m   1470\u001b[0m         prefer_skip_nested_validation \u001b[38;5;129;01mor\u001b[39;00m global_skip_validation\n\u001b[0;32m   1471\u001b[0m     )\n\u001b[0;32m   1472\u001b[0m ):\n\u001b[1;32m-> 1473\u001b[0m     \u001b[38;5;28;01mreturn\u001b[39;00m \u001b[43mfit_method\u001b[49m\u001b[43m(\u001b[49m\u001b[43mestimator\u001b[49m\u001b[43m,\u001b[49m\u001b[43m \u001b[49m\u001b[38;5;241;43m*\u001b[39;49m\u001b[43margs\u001b[49m\u001b[43m,\u001b[49m\u001b[43m \u001b[49m\u001b[38;5;241;43m*\u001b[39;49m\u001b[38;5;241;43m*\u001b[39;49m\u001b[43mkwargs\u001b[49m\u001b[43m)\u001b[49m\n",
      "File \u001b[1;32m~\\AppData\\Local\\Programs\\Python\\Python311\\Lib\\site-packages\\sklearn\\model_selection\\_search.py:1057\u001b[0m, in \u001b[0;36mBaseSearchCV.fit\u001b[1;34m(self, X, y, **params)\u001b[0m\n\u001b[0;32m   1055\u001b[0m refit_start_time \u001b[38;5;241m=\u001b[39m time\u001b[38;5;241m.\u001b[39mtime()\n\u001b[0;32m   1056\u001b[0m \u001b[38;5;28;01mif\u001b[39;00m y \u001b[38;5;129;01mis\u001b[39;00m \u001b[38;5;129;01mnot\u001b[39;00m \u001b[38;5;28;01mNone\u001b[39;00m:\n\u001b[1;32m-> 1057\u001b[0m     \u001b[38;5;28;43mself\u001b[39;49m\u001b[38;5;241;43m.\u001b[39;49m\u001b[43mbest_estimator_\u001b[49m\u001b[38;5;241;43m.\u001b[39;49m\u001b[43mfit\u001b[49m\u001b[43m(\u001b[49m\u001b[43mX\u001b[49m\u001b[43m,\u001b[49m\u001b[43m \u001b[49m\u001b[43my\u001b[49m\u001b[43m,\u001b[49m\u001b[43m \u001b[49m\u001b[38;5;241;43m*\u001b[39;49m\u001b[38;5;241;43m*\u001b[39;49m\u001b[43mrouted_params\u001b[49m\u001b[38;5;241;43m.\u001b[39;49m\u001b[43mestimator\u001b[49m\u001b[38;5;241;43m.\u001b[39;49m\u001b[43mfit\u001b[49m\u001b[43m)\u001b[49m\n\u001b[0;32m   1058\u001b[0m \u001b[38;5;28;01melse\u001b[39;00m:\n\u001b[0;32m   1059\u001b[0m     \u001b[38;5;28mself\u001b[39m\u001b[38;5;241m.\u001b[39mbest_estimator_\u001b[38;5;241m.\u001b[39mfit(X, \u001b[38;5;241m*\u001b[39m\u001b[38;5;241m*\u001b[39mrouted_params\u001b[38;5;241m.\u001b[39mestimator\u001b[38;5;241m.\u001b[39mfit)\n",
      "File \u001b[1;32m~\\AppData\\Local\\Programs\\Python\\Python311\\Lib\\site-packages\\sklearn\\base.py:1473\u001b[0m, in \u001b[0;36m_fit_context.<locals>.decorator.<locals>.wrapper\u001b[1;34m(estimator, *args, **kwargs)\u001b[0m\n\u001b[0;32m   1466\u001b[0m     estimator\u001b[38;5;241m.\u001b[39m_validate_params()\n\u001b[0;32m   1468\u001b[0m \u001b[38;5;28;01mwith\u001b[39;00m config_context(\n\u001b[0;32m   1469\u001b[0m     skip_parameter_validation\u001b[38;5;241m=\u001b[39m(\n\u001b[0;32m   1470\u001b[0m         prefer_skip_nested_validation \u001b[38;5;129;01mor\u001b[39;00m global_skip_validation\n\u001b[0;32m   1471\u001b[0m     )\n\u001b[0;32m   1472\u001b[0m ):\n\u001b[1;32m-> 1473\u001b[0m     \u001b[38;5;28;01mreturn\u001b[39;00m \u001b[43mfit_method\u001b[49m\u001b[43m(\u001b[49m\u001b[43mestimator\u001b[49m\u001b[43m,\u001b[49m\u001b[43m \u001b[49m\u001b[38;5;241;43m*\u001b[39;49m\u001b[43margs\u001b[49m\u001b[43m,\u001b[49m\u001b[43m \u001b[49m\u001b[38;5;241;43m*\u001b[39;49m\u001b[38;5;241;43m*\u001b[39;49m\u001b[43mkwargs\u001b[49m\u001b[43m)\u001b[49m\n",
      "File \u001b[1;32m~\\AppData\\Local\\Programs\\Python\\Python311\\Lib\\site-packages\\sklearn\\pipeline.py:469\u001b[0m, in \u001b[0;36mPipeline.fit\u001b[1;34m(self, X, y, **params)\u001b[0m\n\u001b[0;32m    426\u001b[0m \u001b[38;5;250m\u001b[39m\u001b[38;5;124;03m\"\"\"Fit the model.\u001b[39;00m\n\u001b[0;32m    427\u001b[0m \n\u001b[0;32m    428\u001b[0m \u001b[38;5;124;03mFit all the transformers one after the other and sequentially transform the\u001b[39;00m\n\u001b[1;32m   (...)\u001b[0m\n\u001b[0;32m    466\u001b[0m \u001b[38;5;124;03m    Pipeline with fitted steps.\u001b[39;00m\n\u001b[0;32m    467\u001b[0m \u001b[38;5;124;03m\"\"\"\u001b[39;00m\n\u001b[0;32m    468\u001b[0m routed_params \u001b[38;5;241m=\u001b[39m \u001b[38;5;28mself\u001b[39m\u001b[38;5;241m.\u001b[39m_check_method_params(method\u001b[38;5;241m=\u001b[39m\u001b[38;5;124m\"\u001b[39m\u001b[38;5;124mfit\u001b[39m\u001b[38;5;124m\"\u001b[39m, props\u001b[38;5;241m=\u001b[39mparams)\n\u001b[1;32m--> 469\u001b[0m Xt \u001b[38;5;241m=\u001b[39m \u001b[38;5;28;43mself\u001b[39;49m\u001b[38;5;241;43m.\u001b[39;49m\u001b[43m_fit\u001b[49m\u001b[43m(\u001b[49m\u001b[43mX\u001b[49m\u001b[43m,\u001b[49m\u001b[43m \u001b[49m\u001b[43my\u001b[49m\u001b[43m,\u001b[49m\u001b[43m \u001b[49m\u001b[43mrouted_params\u001b[49m\u001b[43m)\u001b[49m\n\u001b[0;32m    470\u001b[0m \u001b[38;5;28;01mwith\u001b[39;00m _print_elapsed_time(\u001b[38;5;124m\"\u001b[39m\u001b[38;5;124mPipeline\u001b[39m\u001b[38;5;124m\"\u001b[39m, \u001b[38;5;28mself\u001b[39m\u001b[38;5;241m.\u001b[39m_log_message(\u001b[38;5;28mlen\u001b[39m(\u001b[38;5;28mself\u001b[39m\u001b[38;5;241m.\u001b[39msteps) \u001b[38;5;241m-\u001b[39m \u001b[38;5;241m1\u001b[39m)):\n\u001b[0;32m    471\u001b[0m     \u001b[38;5;28;01mif\u001b[39;00m \u001b[38;5;28mself\u001b[39m\u001b[38;5;241m.\u001b[39m_final_estimator \u001b[38;5;241m!=\u001b[39m \u001b[38;5;124m\"\u001b[39m\u001b[38;5;124mpassthrough\u001b[39m\u001b[38;5;124m\"\u001b[39m:\n",
      "File \u001b[1;32m~\\AppData\\Local\\Programs\\Python\\Python311\\Lib\\site-packages\\sklearn\\pipeline.py:406\u001b[0m, in \u001b[0;36mPipeline._fit\u001b[1;34m(self, X, y, routed_params)\u001b[0m\n\u001b[0;32m    404\u001b[0m     cloned_transformer \u001b[38;5;241m=\u001b[39m clone(transformer)\n\u001b[0;32m    405\u001b[0m \u001b[38;5;66;03m# Fit or load from cache the current transformer\u001b[39;00m\n\u001b[1;32m--> 406\u001b[0m X, fitted_transformer \u001b[38;5;241m=\u001b[39m \u001b[43mfit_transform_one_cached\u001b[49m\u001b[43m(\u001b[49m\n\u001b[0;32m    407\u001b[0m \u001b[43m    \u001b[49m\u001b[43mcloned_transformer\u001b[49m\u001b[43m,\u001b[49m\n\u001b[0;32m    408\u001b[0m \u001b[43m    \u001b[49m\u001b[43mX\u001b[49m\u001b[43m,\u001b[49m\n\u001b[0;32m    409\u001b[0m \u001b[43m    \u001b[49m\u001b[43my\u001b[49m\u001b[43m,\u001b[49m\n\u001b[0;32m    410\u001b[0m \u001b[43m    \u001b[49m\u001b[38;5;28;43;01mNone\u001b[39;49;00m\u001b[43m,\u001b[49m\n\u001b[0;32m    411\u001b[0m \u001b[43m    \u001b[49m\u001b[43mmessage_clsname\u001b[49m\u001b[38;5;241;43m=\u001b[39;49m\u001b[38;5;124;43m\"\u001b[39;49m\u001b[38;5;124;43mPipeline\u001b[39;49m\u001b[38;5;124;43m\"\u001b[39;49m\u001b[43m,\u001b[49m\n\u001b[0;32m    412\u001b[0m \u001b[43m    \u001b[49m\u001b[43mmessage\u001b[49m\u001b[38;5;241;43m=\u001b[39;49m\u001b[38;5;28;43mself\u001b[39;49m\u001b[38;5;241;43m.\u001b[39;49m\u001b[43m_log_message\u001b[49m\u001b[43m(\u001b[49m\u001b[43mstep_idx\u001b[49m\u001b[43m)\u001b[49m\u001b[43m,\u001b[49m\n\u001b[0;32m    413\u001b[0m \u001b[43m    \u001b[49m\u001b[43mparams\u001b[49m\u001b[38;5;241;43m=\u001b[39;49m\u001b[43mrouted_params\u001b[49m\u001b[43m[\u001b[49m\u001b[43mname\u001b[49m\u001b[43m]\u001b[49m\u001b[43m,\u001b[49m\n\u001b[0;32m    414\u001b[0m \u001b[43m\u001b[49m\u001b[43m)\u001b[49m\n\u001b[0;32m    415\u001b[0m \u001b[38;5;66;03m# Replace the transformer of the step with the fitted\u001b[39;00m\n\u001b[0;32m    416\u001b[0m \u001b[38;5;66;03m# transformer. This is necessary when loading the transformer\u001b[39;00m\n\u001b[0;32m    417\u001b[0m \u001b[38;5;66;03m# from the cache.\u001b[39;00m\n\u001b[0;32m    418\u001b[0m \u001b[38;5;28mself\u001b[39m\u001b[38;5;241m.\u001b[39msteps[step_idx] \u001b[38;5;241m=\u001b[39m (name, fitted_transformer)\n",
      "File \u001b[1;32m~\\AppData\\Local\\Programs\\Python\\Python311\\Lib\\site-packages\\joblib\\memory.py:312\u001b[0m, in \u001b[0;36mNotMemorizedFunc.__call__\u001b[1;34m(self, *args, **kwargs)\u001b[0m\n\u001b[0;32m    311\u001b[0m \u001b[38;5;28;01mdef\u001b[39;00m \u001b[38;5;21m__call__\u001b[39m(\u001b[38;5;28mself\u001b[39m, \u001b[38;5;241m*\u001b[39margs, \u001b[38;5;241m*\u001b[39m\u001b[38;5;241m*\u001b[39mkwargs):\n\u001b[1;32m--> 312\u001b[0m     \u001b[38;5;28;01mreturn\u001b[39;00m \u001b[38;5;28;43mself\u001b[39;49m\u001b[38;5;241;43m.\u001b[39;49m\u001b[43mfunc\u001b[49m\u001b[43m(\u001b[49m\u001b[38;5;241;43m*\u001b[39;49m\u001b[43margs\u001b[49m\u001b[43m,\u001b[49m\u001b[43m \u001b[49m\u001b[38;5;241;43m*\u001b[39;49m\u001b[38;5;241;43m*\u001b[39;49m\u001b[43mkwargs\u001b[49m\u001b[43m)\u001b[49m\n",
      "File \u001b[1;32m~\\AppData\\Local\\Programs\\Python\\Python311\\Lib\\site-packages\\sklearn\\pipeline.py:1310\u001b[0m, in \u001b[0;36m_fit_transform_one\u001b[1;34m(transformer, X, y, weight, message_clsname, message, params)\u001b[0m\n\u001b[0;32m   1308\u001b[0m \u001b[38;5;28;01mwith\u001b[39;00m _print_elapsed_time(message_clsname, message):\n\u001b[0;32m   1309\u001b[0m     \u001b[38;5;28;01mif\u001b[39;00m \u001b[38;5;28mhasattr\u001b[39m(transformer, \u001b[38;5;124m\"\u001b[39m\u001b[38;5;124mfit_transform\u001b[39m\u001b[38;5;124m\"\u001b[39m):\n\u001b[1;32m-> 1310\u001b[0m         res \u001b[38;5;241m=\u001b[39m \u001b[43mtransformer\u001b[49m\u001b[38;5;241;43m.\u001b[39;49m\u001b[43mfit_transform\u001b[49m\u001b[43m(\u001b[49m\u001b[43mX\u001b[49m\u001b[43m,\u001b[49m\u001b[43m \u001b[49m\u001b[43my\u001b[49m\u001b[43m,\u001b[49m\u001b[43m \u001b[49m\u001b[38;5;241;43m*\u001b[39;49m\u001b[38;5;241;43m*\u001b[39;49m\u001b[43mparams\u001b[49m\u001b[38;5;241;43m.\u001b[39;49m\u001b[43mget\u001b[49m\u001b[43m(\u001b[49m\u001b[38;5;124;43m\"\u001b[39;49m\u001b[38;5;124;43mfit_transform\u001b[39;49m\u001b[38;5;124;43m\"\u001b[39;49m\u001b[43m,\u001b[49m\u001b[43m \u001b[49m\u001b[43m{\u001b[49m\u001b[43m}\u001b[49m\u001b[43m)\u001b[49m\u001b[43m)\u001b[49m\n\u001b[0;32m   1311\u001b[0m     \u001b[38;5;28;01melse\u001b[39;00m:\n\u001b[0;32m   1312\u001b[0m         res \u001b[38;5;241m=\u001b[39m transformer\u001b[38;5;241m.\u001b[39mfit(X, y, \u001b[38;5;241m*\u001b[39m\u001b[38;5;241m*\u001b[39mparams\u001b[38;5;241m.\u001b[39mget(\u001b[38;5;124m\"\u001b[39m\u001b[38;5;124mfit\u001b[39m\u001b[38;5;124m\"\u001b[39m, {}))\u001b[38;5;241m.\u001b[39mtransform(\n\u001b[0;32m   1313\u001b[0m             X, \u001b[38;5;241m*\u001b[39m\u001b[38;5;241m*\u001b[39mparams\u001b[38;5;241m.\u001b[39mget(\u001b[38;5;124m\"\u001b[39m\u001b[38;5;124mtransform\u001b[39m\u001b[38;5;124m\"\u001b[39m, {})\n\u001b[0;32m   1314\u001b[0m         )\n",
      "File \u001b[1;32m~\\AppData\\Local\\Programs\\Python\\Python311\\Lib\\site-packages\\sklearn\\utils\\_set_output.py:316\u001b[0m, in \u001b[0;36m_wrap_method_output.<locals>.wrapped\u001b[1;34m(self, X, *args, **kwargs)\u001b[0m\n\u001b[0;32m    314\u001b[0m \u001b[38;5;129m@wraps\u001b[39m(f)\n\u001b[0;32m    315\u001b[0m \u001b[38;5;28;01mdef\u001b[39;00m \u001b[38;5;21mwrapped\u001b[39m(\u001b[38;5;28mself\u001b[39m, X, \u001b[38;5;241m*\u001b[39margs, \u001b[38;5;241m*\u001b[39m\u001b[38;5;241m*\u001b[39mkwargs):\n\u001b[1;32m--> 316\u001b[0m     data_to_wrap \u001b[38;5;241m=\u001b[39m \u001b[43mf\u001b[49m\u001b[43m(\u001b[49m\u001b[38;5;28;43mself\u001b[39;49m\u001b[43m,\u001b[49m\u001b[43m \u001b[49m\u001b[43mX\u001b[49m\u001b[43m,\u001b[49m\u001b[43m \u001b[49m\u001b[38;5;241;43m*\u001b[39;49m\u001b[43margs\u001b[49m\u001b[43m,\u001b[49m\u001b[43m \u001b[49m\u001b[38;5;241;43m*\u001b[39;49m\u001b[38;5;241;43m*\u001b[39;49m\u001b[43mkwargs\u001b[49m\u001b[43m)\u001b[49m\n\u001b[0;32m    317\u001b[0m     \u001b[38;5;28;01mif\u001b[39;00m \u001b[38;5;28misinstance\u001b[39m(data_to_wrap, \u001b[38;5;28mtuple\u001b[39m):\n\u001b[0;32m    318\u001b[0m         \u001b[38;5;66;03m# only wrap the first output for cross decomposition\u001b[39;00m\n\u001b[0;32m    319\u001b[0m         return_tuple \u001b[38;5;241m=\u001b[39m (\n\u001b[0;32m    320\u001b[0m             _wrap_data_with_container(method, data_to_wrap[\u001b[38;5;241m0\u001b[39m], X, \u001b[38;5;28mself\u001b[39m),\n\u001b[0;32m    321\u001b[0m             \u001b[38;5;241m*\u001b[39mdata_to_wrap[\u001b[38;5;241m1\u001b[39m:],\n\u001b[0;32m    322\u001b[0m         )\n",
      "File \u001b[1;32m~\\AppData\\Local\\Programs\\Python\\Python311\\Lib\\site-packages\\sklearn\\base.py:1101\u001b[0m, in \u001b[0;36mTransformerMixin.fit_transform\u001b[1;34m(self, X, y, **fit_params)\u001b[0m\n\u001b[0;32m   1098\u001b[0m     \u001b[38;5;28;01mreturn\u001b[39;00m \u001b[38;5;28mself\u001b[39m\u001b[38;5;241m.\u001b[39mfit(X, \u001b[38;5;241m*\u001b[39m\u001b[38;5;241m*\u001b[39mfit_params)\u001b[38;5;241m.\u001b[39mtransform(X)\n\u001b[0;32m   1099\u001b[0m \u001b[38;5;28;01melse\u001b[39;00m:\n\u001b[0;32m   1100\u001b[0m     \u001b[38;5;66;03m# fit method of arity 2 (supervised transformation)\u001b[39;00m\n\u001b[1;32m-> 1101\u001b[0m     \u001b[38;5;28;01mreturn\u001b[39;00m \u001b[38;5;28;43mself\u001b[39;49m\u001b[38;5;241;43m.\u001b[39;49m\u001b[43mfit\u001b[49m\u001b[43m(\u001b[49m\u001b[43mX\u001b[49m\u001b[43m,\u001b[49m\u001b[43m \u001b[49m\u001b[43my\u001b[49m\u001b[43m,\u001b[49m\u001b[43m \u001b[49m\u001b[38;5;241;43m*\u001b[39;49m\u001b[38;5;241;43m*\u001b[39;49m\u001b[43mfit_params\u001b[49m\u001b[43m)\u001b[49m\u001b[38;5;241m.\u001b[39mtransform(X)\n",
      "File \u001b[1;32m~\\AppData\\Local\\Programs\\Python\\Python311\\Lib\\site-packages\\sklearn\\base.py:1473\u001b[0m, in \u001b[0;36m_fit_context.<locals>.decorator.<locals>.wrapper\u001b[1;34m(estimator, *args, **kwargs)\u001b[0m\n\u001b[0;32m   1466\u001b[0m     estimator\u001b[38;5;241m.\u001b[39m_validate_params()\n\u001b[0;32m   1468\u001b[0m \u001b[38;5;28;01mwith\u001b[39;00m config_context(\n\u001b[0;32m   1469\u001b[0m     skip_parameter_validation\u001b[38;5;241m=\u001b[39m(\n\u001b[0;32m   1470\u001b[0m         prefer_skip_nested_validation \u001b[38;5;129;01mor\u001b[39;00m global_skip_validation\n\u001b[0;32m   1471\u001b[0m     )\n\u001b[0;32m   1472\u001b[0m ):\n\u001b[1;32m-> 1473\u001b[0m     \u001b[38;5;28;01mreturn\u001b[39;00m \u001b[43mfit_method\u001b[49m\u001b[43m(\u001b[49m\u001b[43mestimator\u001b[49m\u001b[43m,\u001b[49m\u001b[43m \u001b[49m\u001b[38;5;241;43m*\u001b[39;49m\u001b[43margs\u001b[49m\u001b[43m,\u001b[49m\u001b[43m \u001b[49m\u001b[38;5;241;43m*\u001b[39;49m\u001b[38;5;241;43m*\u001b[39;49m\u001b[43mkwargs\u001b[49m\u001b[43m)\u001b[49m\n",
      "File \u001b[1;32m~\\AppData\\Local\\Programs\\Python\\Python311\\Lib\\site-packages\\sklearn\\neural_network\\_rbm.py:427\u001b[0m, in \u001b[0;36mBernoulliRBM.fit\u001b[1;34m(self, X, y)\u001b[0m\n\u001b[0;32m    425\u001b[0m \u001b[38;5;28;01mfor\u001b[39;00m iteration \u001b[38;5;129;01min\u001b[39;00m \u001b[38;5;28mrange\u001b[39m(\u001b[38;5;241m1\u001b[39m, \u001b[38;5;28mself\u001b[39m\u001b[38;5;241m.\u001b[39mn_iter \u001b[38;5;241m+\u001b[39m \u001b[38;5;241m1\u001b[39m):\n\u001b[0;32m    426\u001b[0m     \u001b[38;5;28;01mfor\u001b[39;00m batch_slice \u001b[38;5;129;01min\u001b[39;00m batch_slices:\n\u001b[1;32m--> 427\u001b[0m         \u001b[38;5;28;43mself\u001b[39;49m\u001b[38;5;241;43m.\u001b[39;49m\u001b[43m_fit\u001b[49m\u001b[43m(\u001b[49m\u001b[43mX\u001b[49m\u001b[43m[\u001b[49m\u001b[43mbatch_slice\u001b[49m\u001b[43m]\u001b[49m\u001b[43m,\u001b[49m\u001b[43m \u001b[49m\u001b[43mrng\u001b[49m\u001b[43m)\u001b[49m\n\u001b[0;32m    429\u001b[0m     \u001b[38;5;28;01mif\u001b[39;00m verbose:\n\u001b[0;32m    430\u001b[0m         end \u001b[38;5;241m=\u001b[39m time\u001b[38;5;241m.\u001b[39mtime()\n",
      "File \u001b[1;32m~\\AppData\\Local\\Programs\\Python\\Python311\\Lib\\site-packages\\sklearn\\neural_network\\_rbm.py:332\u001b[0m, in \u001b[0;36mBernoulliRBM._fit\u001b[1;34m(self, v_pos, rng)\u001b[0m\n\u001b[0;32m    318\u001b[0m \u001b[38;5;250m\u001b[39m\u001b[38;5;124;03m\"\"\"Inner fit for one mini-batch.\u001b[39;00m\n\u001b[0;32m    319\u001b[0m \n\u001b[0;32m    320\u001b[0m \u001b[38;5;124;03mAdjust the parameters to maximize the likelihood of v using\u001b[39;00m\n\u001b[1;32m   (...)\u001b[0m\n\u001b[0;32m    329\u001b[0m \u001b[38;5;124;03m    Random number generator to use for sampling.\u001b[39;00m\n\u001b[0;32m    330\u001b[0m \u001b[38;5;124;03m\"\"\"\u001b[39;00m\n\u001b[0;32m    331\u001b[0m h_pos \u001b[38;5;241m=\u001b[39m \u001b[38;5;28mself\u001b[39m\u001b[38;5;241m.\u001b[39m_mean_hiddens(v_pos)\n\u001b[1;32m--> 332\u001b[0m v_neg \u001b[38;5;241m=\u001b[39m \u001b[38;5;28;43mself\u001b[39;49m\u001b[38;5;241;43m.\u001b[39;49m\u001b[43m_sample_visibles\u001b[49m\u001b[43m(\u001b[49m\u001b[38;5;28;43mself\u001b[39;49m\u001b[38;5;241;43m.\u001b[39;49m\u001b[43mh_samples_\u001b[49m\u001b[43m,\u001b[49m\u001b[43m \u001b[49m\u001b[43mrng\u001b[49m\u001b[43m)\u001b[49m\n\u001b[0;32m    333\u001b[0m h_neg \u001b[38;5;241m=\u001b[39m \u001b[38;5;28mself\u001b[39m\u001b[38;5;241m.\u001b[39m_mean_hiddens(v_neg)\n\u001b[0;32m    335\u001b[0m lr \u001b[38;5;241m=\u001b[39m \u001b[38;5;28mfloat\u001b[39m(\u001b[38;5;28mself\u001b[39m\u001b[38;5;241m.\u001b[39mlearning_rate) \u001b[38;5;241m/\u001b[39m v_pos\u001b[38;5;241m.\u001b[39mshape[\u001b[38;5;241m0\u001b[39m]\n",
      "File \u001b[1;32m~\\AppData\\Local\\Programs\\Python\\Python311\\Lib\\site-packages\\sklearn\\neural_network\\_rbm.py:232\u001b[0m, in \u001b[0;36mBernoulliRBM._sample_visibles\u001b[1;34m(self, h, rng)\u001b[0m\n\u001b[0;32m    216\u001b[0m \u001b[38;5;28;01mdef\u001b[39;00m \u001b[38;5;21m_sample_visibles\u001b[39m(\u001b[38;5;28mself\u001b[39m, h, rng):\n\u001b[0;32m    217\u001b[0m \u001b[38;5;250m    \u001b[39m\u001b[38;5;124;03m\"\"\"Sample from the distribution P(v|h).\u001b[39;00m\n\u001b[0;32m    218\u001b[0m \n\u001b[0;32m    219\u001b[0m \u001b[38;5;124;03m    Parameters\u001b[39;00m\n\u001b[1;32m   (...)\u001b[0m\n\u001b[0;32m    230\u001b[0m \u001b[38;5;124;03m        Values of the visible layer.\u001b[39;00m\n\u001b[0;32m    231\u001b[0m \u001b[38;5;124;03m    \"\"\"\u001b[39;00m\n\u001b[1;32m--> 232\u001b[0m     p \u001b[38;5;241m=\u001b[39m \u001b[43mnp\u001b[49m\u001b[38;5;241;43m.\u001b[39;49m\u001b[43mdot\u001b[49m\u001b[43m(\u001b[49m\u001b[43mh\u001b[49m\u001b[43m,\u001b[49m\u001b[43m \u001b[49m\u001b[38;5;28;43mself\u001b[39;49m\u001b[38;5;241;43m.\u001b[39;49m\u001b[43mcomponents_\u001b[49m\u001b[43m)\u001b[49m\n\u001b[0;32m    233\u001b[0m     p \u001b[38;5;241m+\u001b[39m\u001b[38;5;241m=\u001b[39m \u001b[38;5;28mself\u001b[39m\u001b[38;5;241m.\u001b[39mintercept_visible_\n\u001b[0;32m    234\u001b[0m     expit(p, out\u001b[38;5;241m=\u001b[39mp)\n",
      "\u001b[1;31mKeyboardInterrupt\u001b[0m: "
     ]
    }
   ],
   "source": [
    "from sklearn.metrics import make_scorer\n",
    "from sklearn.model_selection import GridSearchCV\n",
    "from sklearn.neural_network import BernoulliRBM\n",
    "from sklearn.pipeline import Pipeline\n",
    "\n",
    "scoring_func = lambda true, pred: roc_auc_score(\n",
    "    true, pred, multi_class=\"ovr\", average=\"weighted\"\n",
    ")\n",
    "\n",
    "multiclass_auroc_scorer = make_scorer(\n",
    "    scoring_func, needs_proba=True, greater_is_better=True\n",
    ")\n",
    "\n",
    "rbm_dataframes = []\n",
    "estims = []\n",
    "for data, name in zip(datasets, names):\n",
    "    print(f\"Training for {name}\")\n",
    "    X_train, y_train, X_test, y_test = data\n",
    "    X_train = X_train.reshape(X_train.shape[0], -1)\n",
    "    X_test = X_test.reshape(X_test.shape[0], -1)\n",
    "\n",
    "    pipe = Pipeline(\n",
    "        [\n",
    "            (\"rbm\", BernoulliRBM(random_state=42)),\n",
    "            (\"logreg\", LogisticRegression(random_state=42)),\n",
    "        ]\n",
    "    )\n",
    "\n",
    "    param_grid = {\n",
    "        \"rbm__n_components\": [64, 96, 128],  # Number of hidden units\n",
    "        \"rbm__learning_rate\": [0.01, 0.1],  # Learning rate\n",
    "        \"rbm__batch_size\": [5, 10, 15],  # Batch size\n",
    "        \"logreg__C\": [0.5, 1.0],  # Regularization strength\n",
    "    }\n",
    "\n",
    "    clf = GridSearchCV(\n",
    "        estimator=pipe,\n",
    "        param_grid=param_grid,\n",
    "        cv=5,\n",
    "        scoring=multiclass_auroc_scorer,\n",
    "        n_jobs=-1,\n",
    "        verbose=2,\n",
    "    )\n",
    "\n",
    "    clf.fit(X_train, y_train)\n",
    "\n",
    "    print(clf.best_params_)\n",
    "    estims.append(clf.best_estimator_)\n",
    "\n",
    "    result_df = get_score_df(clf, X_test, y_test)\n",
    "\n",
    "    rbm_dataframes.append(result_df)\n",
    "\n",
    "    print(result_df)\n",
    "    print()"
   ],
   "metadata": {
    "collapsed": false,
    "ExecuteTime": {
     "end_time": "2024-12-18T17:51:34.072889900Z",
     "start_time": "2024-12-18T17:41:22.179809800Z"
    }
   },
   "id": "1f9d4b2b93fa2d8c"
  },
  {
   "cell_type": "markdown",
   "source": [
    "# TODO - Plot weights"
   ],
   "metadata": {
    "collapsed": false
   },
   "id": "d32cac439797e63"
  },
  {
   "cell_type": "markdown",
   "source": [
    "# Task 2 - DBN"
   ],
   "metadata": {
    "collapsed": false
   },
   "id": "ce1a7f92e99e08b7"
  },
  {
   "cell_type": "code",
   "execution_count": null,
   "outputs": [],
   "source": [],
   "metadata": {
    "collapsed": false
   },
   "id": "5cc5522fb37c7c6f"
  }
 ],
 "metadata": {
  "kernelspec": {
   "display_name": "Python 3 (ipykernel)",
   "language": "python",
   "name": "python3"
  },
  "language_info": {
   "codemirror_mode": {
    "name": "ipython",
    "version": 3
   },
   "file_extension": ".py",
   "mimetype": "text/x-python",
   "name": "python",
   "nbconvert_exporter": "python",
   "pygments_lexer": "ipython3",
   "version": "3.12.4"
  }
 },
 "nbformat": 4,
 "nbformat_minor": 5
}
